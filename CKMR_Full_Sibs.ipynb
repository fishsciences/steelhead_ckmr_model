{
 "cells": [
  {
   "cell_type": "code",
   "execution_count": 3,
   "metadata": {},
   "outputs": [],
   "source": [
    "import pystan as stan\n",
    "from scipy.special import logit, expit\n",
    "from numpy.random import normal, choice, binomial, uniform\n",
    "import numpy as np\n",
    "import pandas as pd\n",
    "import matplotlib.pyplot as plt"
   ]
  },
  {
   "cell_type": "code",
   "execution_count": 2,
   "metadata": {},
   "outputs": [
    {
     "name": "stderr",
     "output_type": "stream",
     "text": [
      "INFO:pystan:COMPILING THE C++ CODE FOR MODEL anon_model_2ac5f2fa35f98226983048f9ffff264b NOW.\n",
      "In file included from /nix/store/w0nkg5cx8d3lf880gxpi1zbjgjw0a84c-python3-3.8.12-env/lib/python3.8/site-packages/numpy/core/include/numpy/ndarraytypes.h:1969,\n",
      "                 from /nix/store/w0nkg5cx8d3lf880gxpi1zbjgjw0a84c-python3-3.8.12-env/lib/python3.8/site-packages/numpy/core/include/numpy/ndarrayobject.h:12,\n",
      "                 from /nix/store/w0nkg5cx8d3lf880gxpi1zbjgjw0a84c-python3-3.8.12-env/lib/python3.8/site-packages/numpy/core/include/numpy/arrayobject.h:4,\n",
      "                 from /run/user/1000/pystan_lt3f41_k/stanfit4anon_model_2ac5f2fa35f98226983048f9ffff264b_1020999159275558894.cpp:709:\n",
      "/nix/store/w0nkg5cx8d3lf880gxpi1zbjgjw0a84c-python3-3.8.12-env/lib/python3.8/site-packages/numpy/core/include/numpy/npy_1_7_deprecated_api.h:17:2: warning: #warning \"Using deprecated NumPy API, disable it with \" \"#define NPY_NO_DEPRECATED_API NPY_1_7_API_VERSION\" [-Wcpp]\n",
      "   17 | #warning \"Using deprecated NumPy API, disable it with \" \\\n",
      "      |  ^~~~~~~\n",
      "In file included from /nix/store/cq152id4fljawrl13kajy9mq89ych5gf-python3.8-pystan-2.19.1.1/lib/python3.8/site-packages/pystan/stan/lib/stan_math/stan/math/prim/mat/prob/poisson_log_glm_log.hpp:5,\n",
      "                 from /nix/store/cq152id4fljawrl13kajy9mq89ych5gf-python3.8-pystan-2.19.1.1/lib/python3.8/site-packages/pystan/stan/lib/stan_math/stan/math/prim/mat.hpp:336,\n",
      "                 from /nix/store/cq152id4fljawrl13kajy9mq89ych5gf-python3.8-pystan-2.19.1.1/lib/python3.8/site-packages/pystan/stan/src/stan/io/dump.hpp:6,\n",
      "                 from /nix/store/cq152id4fljawrl13kajy9mq89ych5gf-python3.8-pystan-2.19.1.1/lib/python3.8/site-packages/pystan/py_var_context.hpp:12,\n",
      "                 from /run/user/1000/pystan_lt3f41_k/stanfit4anon_model_2ac5f2fa35f98226983048f9ffff264b_1020999159275558894.cpp:718:\n",
      "/nix/store/cq152id4fljawrl13kajy9mq89ych5gf-python3.8-pystan-2.19.1.1/lib/python3.8/site-packages/pystan/stan/lib/stan_math/stan/math/prim/mat/prob/poisson_log_glm_lpmf.hpp: In function ‘typename stan::return_type<T_x, T_alpha, T_beta>::type stan::math::poisson_log_glm_lpmf(const T_y&, const T_x&, const T_alpha&, const T_beta&)’:\n",
      "/nix/store/cq152id4fljawrl13kajy9mq89ych5gf-python3.8-pystan-2.19.1.1/lib/python3.8/site-packages/pystan/stan/lib/stan_math/stan/math/prim/mat/prob/poisson_log_glm_lpmf.hpp:64:59: warning: typedef ‘T_alpha_val’ locally defined but not used [-Wunused-local-typedefs]\n",
      "   64 |       typename partials_return_type<T_alpha>::type>::type T_alpha_val;\n",
      "      |                                                           ^~~~~~~~~~~\n",
      "In file included from /nix/store/cq152id4fljawrl13kajy9mq89ych5gf-python3.8-pystan-2.19.1.1/lib/python3.8/site-packages/pystan/stan/lib/stan_math/lib/boost_1.69.0/boost/numeric/ublas/matrix.hpp:19,\n",
      "                 from /nix/store/cq152id4fljawrl13kajy9mq89ych5gf-python3.8-pystan-2.19.1.1/lib/python3.8/site-packages/pystan/stan/lib/stan_math/lib/boost_1.69.0/boost/numeric/odeint/util/ublas_wrapper.hpp:24,\n",
      "                 from /nix/store/cq152id4fljawrl13kajy9mq89ych5gf-python3.8-pystan-2.19.1.1/lib/python3.8/site-packages/pystan/stan/lib/stan_math/lib/boost_1.69.0/boost/numeric/odeint.hpp:25,\n",
      "                 from /nix/store/cq152id4fljawrl13kajy9mq89ych5gf-python3.8-pystan-2.19.1.1/lib/python3.8/site-packages/pystan/stan/lib/stan_math/stan/math/prim/arr/functor/integrate_ode_rk45.hpp:17,\n",
      "                 from /nix/store/cq152id4fljawrl13kajy9mq89ych5gf-python3.8-pystan-2.19.1.1/lib/python3.8/site-packages/pystan/stan/lib/stan_math/stan/math/prim/arr.hpp:46,\n",
      "                 from /nix/store/cq152id4fljawrl13kajy9mq89ych5gf-python3.8-pystan-2.19.1.1/lib/python3.8/site-packages/pystan/stan/lib/stan_math/stan/math/prim/mat.hpp:344,\n",
      "                 from /nix/store/cq152id4fljawrl13kajy9mq89ych5gf-python3.8-pystan-2.19.1.1/lib/python3.8/site-packages/pystan/stan/src/stan/io/dump.hpp:6,\n",
      "                 from /nix/store/cq152id4fljawrl13kajy9mq89ych5gf-python3.8-pystan-2.19.1.1/lib/python3.8/site-packages/pystan/py_var_context.hpp:12,\n",
      "                 from /run/user/1000/pystan_lt3f41_k/stanfit4anon_model_2ac5f2fa35f98226983048f9ffff264b_1020999159275558894.cpp:718:\n",
      "/nix/store/cq152id4fljawrl13kajy9mq89ych5gf-python3.8-pystan-2.19.1.1/lib/python3.8/site-packages/pystan/stan/lib/stan_math/lib/boost_1.69.0/boost/numeric/ublas/matrix_expression.hpp: In member function ‘void boost::numeric::ublas::matrix_binary<E1, E2, F>::const_iterator1::increment(boost::numeric::ublas::sparse_bidirectional_iterator_tag)’:\n",
      "/nix/store/cq152id4fljawrl13kajy9mq89ych5gf-python3.8-pystan-2.19.1.1/lib/python3.8/site-packages/pystan/stan/lib/stan_math/lib/boost_1.69.0/boost/numeric/ublas/matrix_expression.hpp:2224:17: warning: this ‘if’ clause does not guard... [-Wmisleading-indentation]\n",
      " 2224 |                 if (it2_ != it2_end_)\n",
      "      |                 ^~\n",
      "/nix/store/cq152id4fljawrl13kajy9mq89ych5gf-python3.8-pystan-2.19.1.1/lib/python3.8/site-packages/pystan/stan/lib/stan_math/lib/boost_1.69.0/boost/numeric/ublas/matrix_expression.hpp:2227:21: note: ...this statement, but the latter is misleadingly indented as if it were guarded by the ‘if’\n",
      " 2227 |                     if (it2_ != it2_end_) {\n",
      "      |                     ^~\n",
      "In file included from /run/user/1000/pystan_lt3f41_k/stanfit4anon_model_2ac5f2fa35f98226983048f9ffff264b_1020999159275558894.cpp:719:\n",
      "/nix/store/cq152id4fljawrl13kajy9mq89ych5gf-python3.8-pystan-2.19.1.1/lib/python3.8/site-packages/pystan/stan_fit.hpp: In function ‘int pystan::{anonymous}::command(pystan::StanArgs&, Model&, pystan::StanHolder&, const std::vector<long unsigned int>&, const std::vector<std::__cxx11::basic_string<char> >&, RNG_t&)’:\n",
      "/nix/store/cq152id4fljawrl13kajy9mq89ych5gf-python3.8-pystan-2.19.1.1/lib/python3.8/site-packages/pystan/stan_fit.hpp:841:12: warning: ‘template<class> class std::auto_ptr’ is deprecated [-Wdeprecated-declarations]\n",
      "  841 |       std::auto_ptr<stan::io::var_context> init_context_ptr;\n",
      "      |            ^~~~~~~~\n",
      "In file included from /nix/store/h6d0c7lnxx65i925xmnxgwdfdvc7hc2p-gcc-10.3.0/include/c++/10.3.0/memory:83,\n",
      "                 from /nix/store/cq152id4fljawrl13kajy9mq89ych5gf-python3.8-pystan-2.19.1.1/lib/python3.8/site-packages/pystan/stan/lib/stan_math/lib/boost_1.69.0/boost/config/no_tr1/memory.hpp:21,\n",
      "                 from /nix/store/cq152id4fljawrl13kajy9mq89ych5gf-python3.8-pystan-2.19.1.1/lib/python3.8/site-packages/pystan/stan/lib/stan_math/lib/boost_1.69.0/boost/smart_ptr/shared_ptr.hpp:23,\n",
      "                 from /nix/store/cq152id4fljawrl13kajy9mq89ych5gf-python3.8-pystan-2.19.1.1/lib/python3.8/site-packages/pystan/stan/lib/stan_math/lib/boost_1.69.0/boost/shared_ptr.hpp:17,\n",
      "                 from /nix/store/cq152id4fljawrl13kajy9mq89ych5gf-python3.8-pystan-2.19.1.1/lib/python3.8/site-packages/pystan/stan/lib/stan_math/stan/math/prim/mat/fun/LDLT_factor.hpp:7,\n",
      "                 from /nix/store/cq152id4fljawrl13kajy9mq89ych5gf-python3.8-pystan-2.19.1.1/lib/python3.8/site-packages/pystan/stan/lib/stan_math/stan/math/prim/mat/err/check_ldlt_factor.hpp:6,\n",
      "                 from /nix/store/cq152id4fljawrl13kajy9mq89ych5gf-python3.8-pystan-2.19.1.1/lib/python3.8/site-packages/pystan/stan/lib/stan_math/stan/math/prim/mat.hpp:34,\n",
      "                 from /nix/store/cq152id4fljawrl13kajy9mq89ych5gf-python3.8-pystan-2.19.1.1/lib/python3.8/site-packages/pystan/stan/src/stan/io/dump.hpp:6,\n",
      "                 from /nix/store/cq152id4fljawrl13kajy9mq89ych5gf-python3.8-pystan-2.19.1.1/lib/python3.8/site-packages/pystan/py_var_context.hpp:12,\n",
      "                 from /run/user/1000/pystan_lt3f41_k/stanfit4anon_model_2ac5f2fa35f98226983048f9ffff264b_1020999159275558894.cpp:718:\n",
      "/nix/store/h6d0c7lnxx65i925xmnxgwdfdvc7hc2p-gcc-10.3.0/include/c++/10.3.0/bits/unique_ptr.h:57:28: note: declared here\n",
      "   57 |   template<typename> class auto_ptr;\n",
      "      |                            ^~~~~~~~\n",
      "In file included from /run/user/1000/pystan_lt3f41_k/stanfit4anon_model_2ac5f2fa35f98226983048f9ffff264b_1020999159275558894.cpp:721:\n",
      "/run/user/1000/pystan_lt3f41_k/anon_model_2ac5f2fa35f98226983048f9ffff264b.hpp: In member function ‘void anon_model_2ac5f2fa35f98226983048f9ffff264b_namespace::anon_model_2ac5f2fa35f98226983048f9ffff264b::transform_inits(const stan::io::var_context&, std::vector<int>&, std::vector<double>&, std::ostream*) const’:\n",
      "/run/user/1000/pystan_lt3f41_k/anon_model_2ac5f2fa35f98226983048f9ffff264b.hpp:196:24: warning: typedef ‘local_scalar_t__’ locally defined but not used [-Wunused-local-typedefs]\n",
      "  196 |         typedef double local_scalar_t__;\n",
      "      |                        ^~~~~~~~~~~~~~~~\n"
     ]
    },
    {
     "name": "stderr",
     "output_type": "stream",
     "text": [
      "/run/user/1000/pystan_lt3f41_k/stanfit4anon_model_2ac5f2fa35f98226983048f9ffff264b_1020999159275558894.cpp: In function ‘PyObject* __pyx_pf_71stanfit4anon_model_2ac5f2fa35f98226983048f9ffff264b_1020999159275558894_2_call_sampler(PyObject*, PyObject*, PyObject*, PyObject*)’:\n",
      "/run/user/1000/pystan_lt3f41_k/stanfit4anon_model_2ac5f2fa35f98226983048f9ffff264b_1020999159275558894.cpp:9482:30: warning: comparison of integer expressions of different signedness: ‘Py_ssize_t’ {aka ‘long int’} and ‘std::vector<std::__cxx11::basic_string<char> >::size_type’ {aka ‘long unsigned int’} [-Wsign-compare]\n",
      " 9482 |     __pyx_t_12 = ((__pyx_t_9 != __pyx_v_fitptr->param_names_oi().size()) != 0);\n",
      "      |                    ~~~~~~~~~~^~~~~~~~~~~~~~~~~~~~~~~~~~~~~~~~~~~~~~~~~~\n",
      "In file included from /nix/store/cq152id4fljawrl13kajy9mq89ych5gf-python3.8-pystan-2.19.1.1/lib/python3.8/site-packages/pystan/stan/lib/stan_math/lib/eigen_3.3.3/Eigen/Core:420,\n",
      "                 from /nix/store/cq152id4fljawrl13kajy9mq89ych5gf-python3.8-pystan-2.19.1.1/lib/python3.8/site-packages/pystan/stan/lib/stan_math/lib/eigen_3.3.3/Eigen/Dense:1,\n",
      "                 from /nix/store/cq152id4fljawrl13kajy9mq89ych5gf-python3.8-pystan-2.19.1.1/lib/python3.8/site-packages/pystan/stan/lib/stan_math/stan/math/prim/mat/meta/as_array_or_scalar.hpp:4,\n",
      "                 from /nix/store/cq152id4fljawrl13kajy9mq89ych5gf-python3.8-pystan-2.19.1.1/lib/python3.8/site-packages/pystan/stan/lib/stan_math/stan/math/prim/mat.hpp:9,\n",
      "                 from /nix/store/cq152id4fljawrl13kajy9mq89ych5gf-python3.8-pystan-2.19.1.1/lib/python3.8/site-packages/pystan/stan/src/stan/io/dump.hpp:6,\n",
      "                 from /nix/store/cq152id4fljawrl13kajy9mq89ych5gf-python3.8-pystan-2.19.1.1/lib/python3.8/site-packages/pystan/py_var_context.hpp:12,\n",
      "                 from /run/user/1000/pystan_lt3f41_k/stanfit4anon_model_2ac5f2fa35f98226983048f9ffff264b_1020999159275558894.cpp:718:\n",
      "/nix/store/cq152id4fljawrl13kajy9mq89ych5gf-python3.8-pystan-2.19.1.1/lib/python3.8/site-packages/pystan/stan/lib/stan_math/lib/eigen_3.3.3/Eigen/src/Core/AssignEvaluator.h: In instantiation of ‘struct Eigen::internal::copy_using_evaluator_traits<Eigen::internal::evaluator<Eigen::Matrix<double, -1, -1> >, Eigen::internal::evaluator<Eigen::Matrix<double, -1, -1> >, Eigen::internal::assign_op<double, double> >’:\n",
      "/nix/store/cq152id4fljawrl13kajy9mq89ych5gf-python3.8-pystan-2.19.1.1/lib/python3.8/site-packages/pystan/stan/lib/stan_math/lib/eigen_3.3.3/Eigen/src/Core/AssignEvaluator.h:607:49:   required from ‘class Eigen::internal::generic_dense_assignment_kernel<Eigen::internal::evaluator<Eigen::Matrix<double, -1, -1> >, Eigen::internal::evaluator<Eigen::Matrix<double, -1, -1> >, Eigen::internal::assign_op<double, double>, 0>’\n",
      "/nix/store/cq152id4fljawrl13kajy9mq89ych5gf-python3.8-pystan-2.19.1.1/lib/python3.8/site-packages/pystan/stan/lib/stan_math/lib/eigen_3.3.3/Eigen/src/Core/AssignEvaluator.h:739:10:   required from ‘void Eigen::internal::call_dense_assignment_loop(DstXprType&, const SrcXprType&, const Functor&) [with DstXprType = Eigen::Matrix<double, -1, -1>; SrcXprType = Eigen::Matrix<double, -1, -1>; Functor = Eigen::internal::assign_op<double, double>]’\n",
      "/nix/store/cq152id4fljawrl13kajy9mq89ych5gf-python3.8-pystan-2.19.1.1/lib/python3.8/site-packages/pystan/stan/lib/stan_math/lib/eigen_3.3.3/Eigen/src/Core/AssignEvaluator.h:879:31:   required from ‘static void Eigen::internal::Assignment<DstXprType, SrcXprType, Functor, Eigen::internal::Dense2Dense, Weak>::run(DstXprType&, const SrcXprType&, const Functor&) [with DstXprType = Eigen::Matrix<double, -1, -1>; SrcXprType = Eigen::Matrix<double, -1, -1>; Functor = Eigen::internal::assign_op<double, double>; Weak = void]’\n",
      "/nix/store/cq152id4fljawrl13kajy9mq89ych5gf-python3.8-pystan-2.19.1.1/lib/python3.8/site-packages/pystan/stan/lib/stan_math/lib/eigen_3.3.3/Eigen/src/Core/AssignEvaluator.h:836:49:   required from ‘void Eigen::internal::call_assignment_no_alias(Dst&, const Src&, const Func&) [with Dst = Eigen::Matrix<double, -1, -1>; Src = Eigen::Matrix<double, -1, -1>; Func = Eigen::internal::assign_op<double, double>]’\n",
      "/nix/store/cq152id4fljawrl13kajy9mq89ych5gf-python3.8-pystan-2.19.1.1/lib/python3.8/site-packages/pystan/stan/lib/stan_math/lib/eigen_3.3.3/Eigen/src/Core/PlainObjectBase.h:728:41:   required from ‘Derived& Eigen::PlainObjectBase<Derived>::_set_noalias(const Eigen::DenseBase<OtherDerived>&) [with OtherDerived = Eigen::Matrix<double, -1, -1>; Derived = Eigen::Matrix<double, -1, -1>]’\n",
      "/nix/store/cq152id4fljawrl13kajy9mq89ych5gf-python3.8-pystan-2.19.1.1/lib/python3.8/site-packages/pystan/stan/lib/stan_math/lib/eigen_3.3.3/Eigen/src/Core/Matrix.h:278:27:   required from ‘Eigen::Matrix<_Scalar, _Rows, _Cols, _Options, _MaxRows, _MaxCols>::Matrix(Eigen::Matrix<_Scalar, _Rows, _Cols, _Options, _MaxRows, _MaxCols>&&) [with _Scalar = double; int _Rows = -1; int _Cols = -1; int _Options = 0; int _MaxRows = -1; int _MaxCols = -1]’\n",
      "/nix/store/cq152id4fljawrl13kajy9mq89ych5gf-python3.8-pystan-2.19.1.1/lib/python3.8/site-packages/pystan/stan/lib/stan_math/stan/math/prim/mat/fun/cholesky_decompose.hpp:86:22:   required from here\n",
      "/nix/store/cq152id4fljawrl13kajy9mq89ych5gf-python3.8-pystan-2.19.1.1/lib/python3.8/site-packages/pystan/stan/lib/stan_math/lib/eigen_3.3.3/Eigen/src/Core/AssignEvaluator.h:86:63: warning: enum constant in boolean context [-Wint-in-bool-context]\n",
      "   86 |     MayLinearVectorize = bool(MightVectorize) && MayLinearize && DstHasDirectAccess\n",
      "      |                          ~~~~~~~~~~~~~~~~~~~~~~~~~~~~~~~~~~~~~^~~~~~~~~~~~~~~~~~~~~\n",
      "In file included from /nix/store/cq152id4fljawrl13kajy9mq89ych5gf-python3.8-pystan-2.19.1.1/lib/python3.8/site-packages/pystan/stan/lib/stan_math/lib/eigen_3.3.3/Eigen/Core:420,\n",
      "                 from /nix/store/cq152id4fljawrl13kajy9mq89ych5gf-python3.8-pystan-2.19.1.1/lib/python3.8/site-packages/pystan/stan/lib/stan_math/lib/eigen_3.3.3/Eigen/Dense:1,\n",
      "                 from /nix/store/cq152id4fljawrl13kajy9mq89ych5gf-python3.8-pystan-2.19.1.1/lib/python3.8/site-packages/pystan/stan/lib/stan_math/stan/math/prim/mat/meta/as_array_or_scalar.hpp:4,\n",
      "                 from /nix/store/cq152id4fljawrl13kajy9mq89ych5gf-python3.8-pystan-2.19.1.1/lib/python3.8/site-packages/pystan/stan/lib/stan_math/stan/math/prim/mat.hpp:9,\n",
      "                 from /nix/store/cq152id4fljawrl13kajy9mq89ych5gf-python3.8-pystan-2.19.1.1/lib/python3.8/site-packages/pystan/stan/src/stan/io/dump.hpp:6,\n",
      "                 from /nix/store/cq152id4fljawrl13kajy9mq89ych5gf-python3.8-pystan-2.19.1.1/lib/python3.8/site-packages/pystan/py_var_context.hpp:12,\n",
      "                 from /run/user/1000/pystan_lt3f41_k/stanfit4anon_model_2ac5f2fa35f98226983048f9ffff264b_1020999159275558894.cpp:718:\n",
      "/nix/store/cq152id4fljawrl13kajy9mq89ych5gf-python3.8-pystan-2.19.1.1/lib/python3.8/site-packages/pystan/stan/lib/stan_math/lib/eigen_3.3.3/Eigen/src/Core/AssignEvaluator.h:90:55: warning: enum constant in boolean context [-Wint-in-bool-context]\n",
      "   90 |     MaySliceVectorize  = bool(MightVectorize) && bool(DstHasDirectAccess)\n",
      "      |                                                       ^~~~~~~~~~~~~~~~~~\n",
      "In file included from /nix/store/cq152id4fljawrl13kajy9mq89ych5gf-python3.8-pystan-2.19.1.1/lib/python3.8/site-packages/pystan/stan/lib/stan_math/lib/eigen_3.3.3/Eigen/Core:420,\n",
      "                 from /nix/store/cq152id4fljawrl13kajy9mq89ych5gf-python3.8-pystan-2.19.1.1/lib/python3.8/site-packages/pystan/stan/lib/stan_math/lib/eigen_3.3.3/Eigen/Dense:1,\n",
      "                 from /nix/store/cq152id4fljawrl13kajy9mq89ych5gf-python3.8-pystan-2.19.1.1/lib/python3.8/site-packages/pystan/stan/lib/stan_math/stan/math/prim/mat/meta/as_array_or_scalar.hpp:4,\n",
      "                 from /nix/store/cq152id4fljawrl13kajy9mq89ych5gf-python3.8-pystan-2.19.1.1/lib/python3.8/site-packages/pystan/stan/lib/stan_math/stan/math/prim/mat.hpp:9,\n",
      "                 from /nix/store/cq152id4fljawrl13kajy9mq89ych5gf-python3.8-pystan-2.19.1.1/lib/python3.8/site-packages/pystan/stan/src/stan/io/dump.hpp:6,\n",
      "                 from /nix/store/cq152id4fljawrl13kajy9mq89ych5gf-python3.8-pystan-2.19.1.1/lib/python3.8/site-packages/p"
     ]
    },
    {
     "ename": "KeyboardInterrupt",
     "evalue": "",
     "output_type": "error",
     "traceback": [
      "\u001b[0;31m---------------------------------------------------------------------------\u001b[0m",
      "\u001b[0;31mKeyboardInterrupt\u001b[0m                         Traceback (most recent call last)",
      "\u001b[0;32m/run/user/1000/ipykernel_8594/2230840554.py\u001b[0m in \u001b[0;36m<module>\u001b[0;34m\u001b[0m\n\u001b[1;32m      1\u001b[0m \u001b[0;31m#ckmr_model = stan.CmdStanModel(stan_file='~/src/ckmr/src/sib.stan')\u001b[0m\u001b[0;34m\u001b[0m\u001b[0;34m\u001b[0m\u001b[0;34m\u001b[0m\u001b[0m\n\u001b[0;32m----> 2\u001b[0;31m \u001b[0mckmr_model_full\u001b[0m \u001b[0;34m=\u001b[0m \u001b[0mstan\u001b[0m\u001b[0;34m.\u001b[0m\u001b[0mStanModel\u001b[0m\u001b[0;34m(\u001b[0m\u001b[0mfile\u001b[0m\u001b[0;34m=\u001b[0m\u001b[0;34m'/home/alex/src/ckmr/src/sib_full.stan'\u001b[0m\u001b[0;34m)\u001b[0m\u001b[0;34m\u001b[0m\u001b[0;34m\u001b[0m\u001b[0m\n\u001b[0m",
      "\u001b[0;32m/nix/store/cq152id4fljawrl13kajy9mq89ych5gf-python3.8-pystan-2.19.1.1/lib/python3.8/site-packages/pystan/model.py\u001b[0m in \u001b[0;36m__init__\u001b[0;34m(self, file, charset, model_name, model_code, stanc_ret, include_paths, boost_lib, eigen_lib, verbose, obfuscate_model_name, extra_compile_args, allow_undefined, include_dirs, includes)\u001b[0m\n\u001b[1;32m    376\u001b[0m \u001b[0;34m\u001b[0m\u001b[0m\n\u001b[1;32m    377\u001b[0m         \u001b[0;32mtry\u001b[0m\u001b[0;34m:\u001b[0m\u001b[0;34m\u001b[0m\u001b[0;34m\u001b[0m\u001b[0m\n\u001b[0;32m--> 378\u001b[0;31m             \u001b[0mbuild_extension\u001b[0m\u001b[0;34m.\u001b[0m\u001b[0mrun\u001b[0m\u001b[0;34m(\u001b[0m\u001b[0;34m)\u001b[0m\u001b[0;34m\u001b[0m\u001b[0;34m\u001b[0m\u001b[0m\n\u001b[0m\u001b[1;32m    379\u001b[0m         \u001b[0;32mfinally\u001b[0m\u001b[0;34m:\u001b[0m\u001b[0;34m\u001b[0m\u001b[0;34m\u001b[0m\u001b[0m\n\u001b[1;32m    380\u001b[0m             \u001b[0;32mif\u001b[0m \u001b[0mredirect_stderr\u001b[0m\u001b[0;34m:\u001b[0m\u001b[0;34m\u001b[0m\u001b[0;34m\u001b[0m\u001b[0m\n",
      "\u001b[0;32m/nix/store/1xsv6ykl54q7107vsyqvd098s740qvkn-python3-3.8.12/lib/python3.8/distutils/command/build_ext.py\u001b[0m in \u001b[0;36mrun\u001b[0;34m(self)\u001b[0m\n\u001b[1;32m    338\u001b[0m \u001b[0;34m\u001b[0m\u001b[0m\n\u001b[1;32m    339\u001b[0m         \u001b[0;31m# Now actually compile and link everything.\u001b[0m\u001b[0;34m\u001b[0m\u001b[0;34m\u001b[0m\u001b[0;34m\u001b[0m\u001b[0m\n\u001b[0;32m--> 340\u001b[0;31m         \u001b[0mself\u001b[0m\u001b[0;34m.\u001b[0m\u001b[0mbuild_extensions\u001b[0m\u001b[0;34m(\u001b[0m\u001b[0;34m)\u001b[0m\u001b[0;34m\u001b[0m\u001b[0;34m\u001b[0m\u001b[0m\n\u001b[0m\u001b[1;32m    341\u001b[0m \u001b[0;34m\u001b[0m\u001b[0m\n\u001b[1;32m    342\u001b[0m     \u001b[0;32mdef\u001b[0m \u001b[0mcheck_extensions_list\u001b[0m\u001b[0;34m(\u001b[0m\u001b[0mself\u001b[0m\u001b[0;34m,\u001b[0m \u001b[0mextensions\u001b[0m\u001b[0;34m)\u001b[0m\u001b[0;34m:\u001b[0m\u001b[0;34m\u001b[0m\u001b[0;34m\u001b[0m\u001b[0m\n",
      "\u001b[0;32m/nix/store/1xsv6ykl54q7107vsyqvd098s740qvkn-python3-3.8.12/lib/python3.8/distutils/command/build_ext.py\u001b[0m in \u001b[0;36mbuild_extensions\u001b[0;34m(self)\u001b[0m\n\u001b[1;32m    447\u001b[0m             \u001b[0mself\u001b[0m\u001b[0;34m.\u001b[0m\u001b[0m_build_extensions_parallel\u001b[0m\u001b[0;34m(\u001b[0m\u001b[0;34m)\u001b[0m\u001b[0;34m\u001b[0m\u001b[0;34m\u001b[0m\u001b[0m\n\u001b[1;32m    448\u001b[0m         \u001b[0;32melse\u001b[0m\u001b[0;34m:\u001b[0m\u001b[0;34m\u001b[0m\u001b[0;34m\u001b[0m\u001b[0m\n\u001b[0;32m--> 449\u001b[0;31m             \u001b[0mself\u001b[0m\u001b[0;34m.\u001b[0m\u001b[0m_build_extensions_serial\u001b[0m\u001b[0;34m(\u001b[0m\u001b[0;34m)\u001b[0m\u001b[0;34m\u001b[0m\u001b[0;34m\u001b[0m\u001b[0m\n\u001b[0m\u001b[1;32m    450\u001b[0m \u001b[0;34m\u001b[0m\u001b[0m\n\u001b[1;32m    451\u001b[0m     \u001b[0;32mdef\u001b[0m \u001b[0m_build_extensions_parallel\u001b[0m\u001b[0;34m(\u001b[0m\u001b[0mself\u001b[0m\u001b[0;34m)\u001b[0m\u001b[0;34m:\u001b[0m\u001b[0;34m\u001b[0m\u001b[0;34m\u001b[0m\u001b[0m\n",
      "\u001b[0;32m/nix/store/1xsv6ykl54q7107vsyqvd098s740qvkn-python3-3.8.12/lib/python3.8/distutils/command/build_ext.py\u001b[0m in \u001b[0;36m_build_extensions_serial\u001b[0;34m(self)\u001b[0m\n\u001b[1;32m    472\u001b[0m         \u001b[0;32mfor\u001b[0m \u001b[0mext\u001b[0m \u001b[0;32min\u001b[0m \u001b[0mself\u001b[0m\u001b[0;34m.\u001b[0m\u001b[0mextensions\u001b[0m\u001b[0;34m:\u001b[0m\u001b[0;34m\u001b[0m\u001b[0;34m\u001b[0m\u001b[0m\n\u001b[1;32m    473\u001b[0m             \u001b[0;32mwith\u001b[0m \u001b[0mself\u001b[0m\u001b[0;34m.\u001b[0m\u001b[0m_filter_build_errors\u001b[0m\u001b[0;34m(\u001b[0m\u001b[0mext\u001b[0m\u001b[0;34m)\u001b[0m\u001b[0;34m:\u001b[0m\u001b[0;34m\u001b[0m\u001b[0;34m\u001b[0m\u001b[0m\n\u001b[0;32m--> 474\u001b[0;31m                 \u001b[0mself\u001b[0m\u001b[0;34m.\u001b[0m\u001b[0mbuild_extension\u001b[0m\u001b[0;34m(\u001b[0m\u001b[0mext\u001b[0m\u001b[0;34m)\u001b[0m\u001b[0;34m\u001b[0m\u001b[0;34m\u001b[0m\u001b[0m\n\u001b[0m\u001b[1;32m    475\u001b[0m \u001b[0;34m\u001b[0m\u001b[0m\n\u001b[1;32m    476\u001b[0m     \u001b[0;34m@\u001b[0m\u001b[0mcontextlib\u001b[0m\u001b[0;34m.\u001b[0m\u001b[0mcontextmanager\u001b[0m\u001b[0;34m\u001b[0m\u001b[0;34m\u001b[0m\u001b[0m\n",
      "\u001b[0;32m/nix/store/1xsv6ykl54q7107vsyqvd098s740qvkn-python3-3.8.12/lib/python3.8/distutils/command/build_ext.py\u001b[0m in \u001b[0;36mbuild_extension\u001b[0;34m(self, ext)\u001b[0m\n\u001b[1;32m    526\u001b[0m             \u001b[0mmacros\u001b[0m\u001b[0;34m.\u001b[0m\u001b[0mappend\u001b[0m\u001b[0;34m(\u001b[0m\u001b[0;34m(\u001b[0m\u001b[0mundef\u001b[0m\u001b[0;34m,\u001b[0m\u001b[0;34m)\u001b[0m\u001b[0;34m)\u001b[0m\u001b[0;34m\u001b[0m\u001b[0;34m\u001b[0m\u001b[0m\n\u001b[1;32m    527\u001b[0m \u001b[0;34m\u001b[0m\u001b[0m\n\u001b[0;32m--> 528\u001b[0;31m         objects = self.compiler.compile(sources,\n\u001b[0m\u001b[1;32m    529\u001b[0m                                          \u001b[0moutput_dir\u001b[0m\u001b[0;34m=\u001b[0m\u001b[0mself\u001b[0m\u001b[0;34m.\u001b[0m\u001b[0mbuild_temp\u001b[0m\u001b[0;34m,\u001b[0m\u001b[0;34m\u001b[0m\u001b[0;34m\u001b[0m\u001b[0m\n\u001b[1;32m    530\u001b[0m                                          \u001b[0mmacros\u001b[0m\u001b[0;34m=\u001b[0m\u001b[0mmacros\u001b[0m\u001b[0;34m,\u001b[0m\u001b[0;34m\u001b[0m\u001b[0;34m\u001b[0m\u001b[0m\n",
      "\u001b[0;32m/nix/store/1xsv6ykl54q7107vsyqvd098s740qvkn-python3-3.8.12/lib/python3.8/distutils/ccompiler.py\u001b[0m in \u001b[0;36mcompile\u001b[0;34m(self, sources, output_dir, macros, include_dirs, debug, extra_preargs, extra_postargs, depends)\u001b[0m\n\u001b[1;32m    572\u001b[0m             \u001b[0;32mexcept\u001b[0m \u001b[0mKeyError\u001b[0m\u001b[0;34m:\u001b[0m\u001b[0;34m\u001b[0m\u001b[0;34m\u001b[0m\u001b[0m\n\u001b[1;32m    573\u001b[0m                 \u001b[0;32mcontinue\u001b[0m\u001b[0;34m\u001b[0m\u001b[0;34m\u001b[0m\u001b[0m\n\u001b[0;32m--> 574\u001b[0;31m             \u001b[0mself\u001b[0m\u001b[0;34m.\u001b[0m\u001b[0m_compile\u001b[0m\u001b[0;34m(\u001b[0m\u001b[0mobj\u001b[0m\u001b[0;34m,\u001b[0m \u001b[0msrc\u001b[0m\u001b[0;34m,\u001b[0m \u001b[0mext\u001b[0m\u001b[0;34m,\u001b[0m \u001b[0mcc_args\u001b[0m\u001b[0;34m,\u001b[0m \u001b[0mextra_postargs\u001b[0m\u001b[0;34m,\u001b[0m \u001b[0mpp_opts\u001b[0m\u001b[0;34m)\u001b[0m\u001b[0;34m\u001b[0m\u001b[0;34m\u001b[0m\u001b[0m\n\u001b[0m\u001b[1;32m    575\u001b[0m \u001b[0;34m\u001b[0m\u001b[0m\n\u001b[1;32m    576\u001b[0m         \u001b[0;31m# Return *all* object filenames, not just the ones we just built.\u001b[0m\u001b[0;34m\u001b[0m\u001b[0;34m\u001b[0m\u001b[0;34m\u001b[0m\u001b[0m\n",
      "\u001b[0;32m/nix/store/1xsv6ykl54q7107vsyqvd098s740qvkn-python3-3.8.12/lib/python3.8/distutils/unixccompiler.py\u001b[0m in \u001b[0;36m_compile\u001b[0;34m(self, obj, src, ext, cc_args, extra_postargs, pp_opts)\u001b[0m\n\u001b[1;32m    115\u001b[0m                                                     cc_args + extra_postargs)\n\u001b[1;32m    116\u001b[0m         \u001b[0;32mtry\u001b[0m\u001b[0;34m:\u001b[0m\u001b[0;34m\u001b[0m\u001b[0;34m\u001b[0m\u001b[0m\n\u001b[0;32m--> 117\u001b[0;31m             self.spawn(compiler_so + cc_args + [src, '-o', obj] +\n\u001b[0m\u001b[1;32m    118\u001b[0m                        extra_postargs)\n\u001b[1;32m    119\u001b[0m         \u001b[0;32mexcept\u001b[0m \u001b[0mDistutilsExecError\u001b[0m \u001b[0;32mas\u001b[0m \u001b[0mmsg\u001b[0m\u001b[0;34m:\u001b[0m\u001b[0;34m\u001b[0m\u001b[0;34m\u001b[0m\u001b[0m\n",
      "\u001b[0;32m/nix/store/1xsv6ykl54q7107vsyqvd098s740qvkn-python3-3.8.12/lib/python3.8/distutils/ccompiler.py\u001b[0m in \u001b[0;36mspawn\u001b[0;34m(self, cmd)\u001b[0m\n\u001b[1;32m    908\u001b[0m \u001b[0;34m\u001b[0m\u001b[0m\n\u001b[1;32m    909\u001b[0m     \u001b[0;32mdef\u001b[0m \u001b[0mspawn\u001b[0m\u001b[0;34m(\u001b[0m\u001b[0mself\u001b[0m\u001b[0;34m,\u001b[0m \u001b[0mcmd\u001b[0m\u001b[0;34m)\u001b[0m\u001b[0;34m:\u001b[0m\u001b[0;34m\u001b[0m\u001b[0;34m\u001b[0m\u001b[0m\n\u001b[0;32m--> 910\u001b[0;31m         \u001b[0mspawn\u001b[0m\u001b[0;34m(\u001b[0m\u001b[0mcmd\u001b[0m\u001b[0;34m,\u001b[0m \u001b[0mdry_run\u001b[0m\u001b[0;34m=\u001b[0m\u001b[0mself\u001b[0m\u001b[0;34m.\u001b[0m\u001b[0mdry_run\u001b[0m\u001b[0;34m)\u001b[0m\u001b[0;34m\u001b[0m\u001b[0;34m\u001b[0m\u001b[0m\n\u001b[0m\u001b[1;32m    911\u001b[0m \u001b[0;34m\u001b[0m\u001b[0m\n\u001b[1;32m    912\u001b[0m     \u001b[0;32mdef\u001b[0m \u001b[0mmove_file\u001b[0m\u001b[0;34m(\u001b[0m\u001b[0mself\u001b[0m\u001b[0;34m,\u001b[0m \u001b[0msrc\u001b[0m\u001b[0;34m,\u001b[0m \u001b[0mdst\u001b[0m\u001b[0;34m)\u001b[0m\u001b[0;34m:\u001b[0m\u001b[0;34m\u001b[0m\u001b[0;34m\u001b[0m\u001b[0m\n",
      "\u001b[0;32m/nix/store/1xsv6ykl54q7107vsyqvd098s740qvkn-python3-3.8.12/lib/python3.8/distutils/spawn.py\u001b[0m in \u001b[0;36mspawn\u001b[0;34m(cmd, search_path, verbose, dry_run)\u001b[0m\n\u001b[1;32m     34\u001b[0m     \u001b[0mcmd\u001b[0m \u001b[0;34m=\u001b[0m \u001b[0mlist\u001b[0m\u001b[0;34m(\u001b[0m\u001b[0mcmd\u001b[0m\u001b[0;34m)\u001b[0m\u001b[0;34m\u001b[0m\u001b[0;34m\u001b[0m\u001b[0m\n\u001b[1;32m     35\u001b[0m     \u001b[0;32mif\u001b[0m \u001b[0mos\u001b[0m\u001b[0;34m.\u001b[0m\u001b[0mname\u001b[0m \u001b[0;34m==\u001b[0m \u001b[0;34m'posix'\u001b[0m\u001b[0;34m:\u001b[0m\u001b[0;34m\u001b[0m\u001b[0;34m\u001b[0m\u001b[0m\n\u001b[0;32m---> 36\u001b[0;31m         \u001b[0m_spawn_posix\u001b[0m\u001b[0;34m(\u001b[0m\u001b[0mcmd\u001b[0m\u001b[0;34m,\u001b[0m \u001b[0msearch_path\u001b[0m\u001b[0;34m,\u001b[0m \u001b[0mdry_run\u001b[0m\u001b[0;34m=\u001b[0m\u001b[0mdry_run\u001b[0m\u001b[0;34m)\u001b[0m\u001b[0;34m\u001b[0m\u001b[0;34m\u001b[0m\u001b[0m\n\u001b[0m\u001b[1;32m     37\u001b[0m     \u001b[0;32melif\u001b[0m \u001b[0mos\u001b[0m\u001b[0;34m.\u001b[0m\u001b[0mname\u001b[0m \u001b[0;34m==\u001b[0m \u001b[0;34m'nt'\u001b[0m\u001b[0;34m:\u001b[0m\u001b[0;34m\u001b[0m\u001b[0;34m\u001b[0m\u001b[0m\n\u001b[1;32m     38\u001b[0m         \u001b[0m_spawn_nt\u001b[0m\u001b[0;34m(\u001b[0m\u001b[0mcmd\u001b[0m\u001b[0;34m,\u001b[0m \u001b[0msearch_path\u001b[0m\u001b[0;34m,\u001b[0m \u001b[0mdry_run\u001b[0m\u001b[0;34m=\u001b[0m\u001b[0mdry_run\u001b[0m\u001b[0;34m)\u001b[0m\u001b[0;34m\u001b[0m\u001b[0;34m\u001b[0m\u001b[0m\n",
      "\u001b[0;32m/nix/store/1xsv6ykl54q7107vsyqvd098s740qvkn-python3-3.8.12/lib/python3.8/distutils/spawn.py\u001b[0m in \u001b[0;36m_spawn_posix\u001b[0;34m(cmd, search_path, verbose, dry_run)\u001b[0m\n\u001b[1;32m    136\u001b[0m         \u001b[0;32mwhile\u001b[0m \u001b[0;32mTrue\u001b[0m\u001b[0;34m:\u001b[0m\u001b[0;34m\u001b[0m\u001b[0;34m\u001b[0m\u001b[0m\n\u001b[1;32m    137\u001b[0m             \u001b[0;32mtry\u001b[0m\u001b[0;34m:\u001b[0m\u001b[0;34m\u001b[0m\u001b[0;34m\u001b[0m\u001b[0m\n\u001b[0;32m--> 138\u001b[0;31m                 \u001b[0mpid\u001b[0m\u001b[0;34m,\u001b[0m \u001b[0mstatus\u001b[0m \u001b[0;34m=\u001b[0m \u001b[0mos\u001b[0m\u001b[0;34m.\u001b[0m\u001b[0mwaitpid\u001b[0m\u001b[0;34m(\u001b[0m\u001b[0mpid\u001b[0m\u001b[0;34m,\u001b[0m \u001b[0;36m0\u001b[0m\u001b[0;34m)\u001b[0m\u001b[0;34m\u001b[0m\u001b[0;34m\u001b[0m\u001b[0m\n\u001b[0m\u001b[1;32m    139\u001b[0m             \u001b[0;32mexcept\u001b[0m \u001b[0mOSError\u001b[0m \u001b[0;32mas\u001b[0m \u001b[0mexc\u001b[0m\u001b[0;34m:\u001b[0m\u001b[0;34m\u001b[0m\u001b[0;34m\u001b[0m\u001b[0m\n\u001b[1;32m    140\u001b[0m                 \u001b[0;32mif\u001b[0m \u001b[0;32mnot\u001b[0m \u001b[0mDEBUG\u001b[0m\u001b[0;34m:\u001b[0m\u001b[0;34m\u001b[0m\u001b[0;34m\u001b[0m\u001b[0m\n",
      "\u001b[0;31mKeyboardInterrupt\u001b[0m: "
     ]
    }
   ],
   "source": [
    "#ckmr_model = stan.CmdStanModel(stan_file='~/src/ckmr/src/sib.stan')\n",
    "ckmr_model_full = stan.StanModel(file='/home/alex/src/ckmr/src/sib_full.stan')"
   ]
  },
  {
   "cell_type": "code",
   "execution_count": null,
   "metadata": {},
   "outputs": [],
   "source": [
    "df = pd.read_excel('PIRU_mykiss_parentage.xlsx')\n",
    "df = df[df['Count'] > 0]\n",
    "df = df[['Count']]"
   ]
  },
  {
   "cell_type": "code",
   "execution_count": null,
   "metadata": {},
   "outputs": [],
   "source": [
    "def preprocess_data(df):\n",
    "    df = df[['OffspringID', 'MotherID', 'FatherID']]\n",
    "    df = df.groupby(['MotherID', 'FatherID'], as_index=False).count()\n",
    "    df = df.rename(columns={'OffspringID': 'Count'})\n",
    "    df = df[df['Count'] > 0]\n",
    "    return df\n",
    "    \n",
    "def sub_sample(df, p=0.1):\n",
    "    tot = df['Count'].sum()\n",
    "    new_count = binomial(df['Count'], p)\n",
    "    df1 = df[set(df.columns).difference({'Count'})]\n",
    "    df1['Count'] = new_count\n",
    "    df1 = df1[df1['Count'] > 0]\n",
    "    return df1\n",
    "    \n",
    "\n",
    "def make_stan_data(df, method='normal', osr=[0.0, 0.01], prom=[-2.5, 0.11]):\n",
    "    if method == 'normal':\n",
    "        method = 1\n",
    "    elif method == 'beta':\n",
    "        method = 2\n",
    "    else:\n",
    "        raise ValueError(f'Invalid method: {method}')\n",
    "    data = {\n",
    "        'method': method,\n",
    "        'osr_mu': osr[0],\n",
    "        'osr_sigma': osr[1],\n",
    "        'G': len(df['Count']),\n",
    "        'M': df['FatherID'].nunique(),\n",
    "        'F': df['MotherID'].nunique(),\n",
    "        'N': df['Count'].sum(),\n",
    "        'grp_size': df['Count'].values\n",
    "    }\n",
    "    return data\n",
    "\n",
    "def plot_results(dfs, field='F0', ci=0.99, title='', label='', ax=None):\n",
    "    dfs = summarize_samples(dfs, ci=ci, field=field)\n",
    "    ns = [d[0] for d in dfs]\n",
    "    summaries = [d[1] for d in dfs]\n",
    "    if ax is None:\n",
    "        _, ax = plt.subplots(figsize=(16, 9))\n",
    "    y0 = [s[field].loc['mean'] for s in summaries]\n",
    "    y1 = [s[field].iloc[4] for s in summaries]\n",
    "    y2 = [s[field].iloc[6] for s in summaries]\n",
    "    ax.plot(ns, y0, 'o-', label=f'{label} mean')\n",
    "    ax.fill_between(ns, y1, y2, alpha=0.5, label=f'{label} {(100*ci):.1f}% CI')\n",
    "    ax.set_xlabel('sample size')\n",
    "    ax.set_ylabel(f'{field} estimate')\n",
    "    ax.set_title(title)\n",
    "    return ax\n",
    "    \n",
    "def sample_data(dfs, method='normal', osr=[0.0, 0.01], **kwargs):\n",
    "    fits = [(d['Count'].sum(), ckmr_model_full.sampling(data=make_stan_data(d, method=method, osr=osr), **kwargs)) for d in dfs]\n",
    "    fits.sort(key=(lambda x: x[0]))\n",
    "    return fits\n",
    "\n",
    "def summarize_samples(fits, ci=0.99, field='F0'):\n",
    "    lower = 0.5 * (1.0 - ci)\n",
    "    upper = 1.0 - lower\n",
    "    quants = (lower, upper)\n",
    "    res = [(n, d.to_dataframe(pars=[field]).describe(percentiles=quants)) for (n, d) in fits]\n",
    "    return res\n",
    "    \n",
    "def make_synth_data(M0, F0, G0, N):\n",
    "    N0 = M0 + F0\n",
    "    gs = choice(M0*F0, size=G0, replace=False)\n",
    "    gs = np.array([[g // F0, g % F0] for g in gs], dtype=int).T\n",
    "    xs = choice(G0, size=N)\n",
    "    df = pd.DataFrame(data={'OffspringID': np.arange(N), 'FatherID': gs[0, xs], 'MotherID': gs[1, xs]})\n",
    "    return df"
   ]
  },
  {
   "cell_type": "code",
   "execution_count": null,
   "metadata": {
    "scrolled": true
   },
   "outputs": [],
   "source": [
    "dfs = (sub_sample(df, p=p) for p in np.arange(0.05, 1.0, 0.05))\n",
    "fits = sample_data(dfs, chains=4, show_progress=False, iter_sampling=2000)"
   ]
  },
  {
   "cell_type": "code",
   "execution_count": null,
   "metadata": {
    "scrolled": false
   },
   "outputs": [],
   "source": [
    "plot_results(fits, field='F0')"
   ]
  },
  {
   "cell_type": "code",
   "execution_count": null,
   "metadata": {},
   "outputs": [],
   "source": [
    "plot_results(fits, field='N0')"
   ]
  },
  {
   "cell_type": "code",
   "execution_count": null,
   "metadata": {
    "scrolled": true
   },
   "outputs": [],
   "source": [
    "dfs1 = (make_synth_data(137, N) for N in range(100, 1000, 100))\n",
    "fits1 = sample_data(dfs1, chains=4, show_progress=False, iter_sampling=2000)"
   ]
  },
  {
   "cell_type": "code",
   "execution_count": null,
   "metadata": {},
   "outputs": [],
   "source": [
    "plot_results(fits1, field='F0')"
   ]
  },
  {
   "cell_type": "code",
   "execution_count": null,
   "metadata": {},
   "outputs": [],
   "source": [
    "plot_results(fits1, field='N0')"
   ]
  },
  {
   "cell_type": "code",
   "execution_count": null,
   "metadata": {},
   "outputs": [],
   "source": [
    "dfs2 = (make_synth_data(1234, N) for N in range(200, 2200, 200))\n",
    "fits2 = sample_data(dfs2, chains=4, show_progress=False, iter_sampling=2000)"
   ]
  },
  {
   "cell_type": "code",
   "execution_count": null,
   "metadata": {},
   "outputs": [],
   "source": [
    "plot_results(fits2, field='F0')"
   ]
  },
  {
   "cell_type": "code",
   "execution_count": null,
   "metadata": {},
   "outputs": [],
   "source": [
    "plot_results(fits2, field='N0')"
   ]
  },
  {
   "cell_type": "code",
   "execution_count": null,
   "metadata": {},
   "outputs": [],
   "source": [
    "df3 = preprocess_data(pd.read_csv('/home/alex/src/ckmr/Stan_mykiss_2021_Run1.BestConfig'))"
   ]
  },
  {
   "cell_type": "code",
   "execution_count": null,
   "metadata": {},
   "outputs": [],
   "source": [
    "df3"
   ]
  },
  {
   "cell_type": "code",
   "execution_count": null,
   "metadata": {},
   "outputs": [],
   "source": [
    "dfs3 = [sub_sample(df3, p=p) for p in np.linspace(0.2, 1.0, 18)]\n",
    "norm3 = sample_data(dfs3, method='normal', chains=4, iter=2000)\n",
    "beta3 = sample_data(dfs3, method='beta', chains=4, iter=2000)"
   ]
  },
  {
   "cell_type": "code",
   "execution_count": null,
   "metadata": {},
   "outputs": [],
   "source": [
    "ax = plot_results(norm3[1:], field='G0', title='Estimated number of full sibling groups')\n",
    "ax = plot_results(beta3[1:], field='G0', title='Estimated number of full sibling groups', ax=ax)\n",
    "ax.legend()"
   ]
  },
  {
   "cell_type": "code",
   "execution_count": null,
   "metadata": {},
   "outputs": [],
   "source": [
    "ax = plot_results(norm3[1:], field='N0', title='Estimated number of adults')\n",
    "ax = plot_results(beta3[1:], field='N0', title='Estimated number of adults', ax=ax)\n",
    "ax.legend()"
   ]
  },
  {
   "cell_type": "code",
   "execution_count": null,
   "metadata": {},
   "outputs": [],
   "source": [
    "norm3[-1][1].to_dataframe(pars=['G0', 'N0', 'M0', 'F0', 'osr']).describe(percentiles=[0.005, 0.995])[['G0', 'N0', 'M0', 'F0', 'osr']]"
   ]
  },
  {
   "cell_type": "code",
   "execution_count": null,
   "metadata": {},
   "outputs": [],
   "source": [
    "beta3[-1][1].to_dataframe(pars=['G0', 'N0', 'M0', 'F0', 'osr']).describe(percentiles=[0.005, 0.995])[['G0', 'N0', 'M0', 'F0', 'osr']]"
   ]
  },
  {
   "cell_type": "code",
   "execution_count": null,
   "metadata": {},
   "outputs": [],
   "source": [
    "print(beta3[-1][1].stansummary())"
   ]
  },
  {
   "cell_type": "code",
   "execution_count": null,
   "metadata": {},
   "outputs": [],
   "source": [
    "plt.scatter(norm3[-1][1].draws_pd(['F0'])['F0'], norm3[-1][1].draws_pd(['M0'])['M0'], alpha=0.3, label='normal')\n",
    "plt.scatter(beta3[-1][1].draws_pd(['F0'])['F0'], beta3[-1][1].draws_pd(['M0'])['M0'], alpha=0.3, label='beta')\n",
    "plt.xlabel('females')\n",
    "plt.ylabel('males')\n",
    "plt.legend()"
   ]
  },
  {
   "cell_type": "code",
   "execution_count": null,
   "metadata": {},
   "outputs": [],
   "source": [
    "beta3[-1][1].diagnose()"
   ]
  },
  {
   "cell_type": "code",
   "execution_count": null,
   "metadata": {},
   "outputs": [],
   "source": [
    "df4 = preprocess_data(pd.read_csv('/home/alex/src/ckmr/Piru_mykiss-Run1.BestConfig.txt'))"
   ]
  },
  {
   "cell_type": "code",
   "execution_count": null,
   "metadata": {},
   "outputs": [],
   "source": [
    "dfs4 = [sub_sample(df4, p=p) for p in np.linspace(0.1, 1.0, 19)]\n",
    "res4 = sample_data(dfs4, osr=[0.0, 0.01], chains=4, iter=2000)\n",
    "#beta4 = sample_data(dfs4, method='beta', osr=[0.0, 10.0], chains=4, iter=2000)"
   ]
  },
  {
   "cell_type": "code",
   "execution_count": null,
   "metadata": {},
   "outputs": [],
   "source": [
    "ax = plot_results(res4, field='G0', title='Estimated number of full sibling groups')\n",
    "#ax = plot_results(beta4, field='G0', title='Estimated number of full sibling groups', ax=ax)\n",
    "ax.legend()"
   ]
  },
  {
   "cell_type": "code",
   "execution_count": null,
   "metadata": {},
   "outputs": [],
   "source": [
    "ax = plot_results(res4, field='N0', title='Estimated number of adults')\n",
    "#ax = plot_results(beta4, field='N0', title='Estimated number of adults', ax=ax)\n",
    "ax.legend()"
   ]
  },
  {
   "cell_type": "code",
   "execution_count": null,
   "metadata": {},
   "outputs": [],
   "source": [
    "res4[-1][1].to_dataframe(['G0', 'N0', 'M0', 'F0', 'osr']).describe(percentiles=[0.005, 0.995])[['G0', 'N0', 'M0', 'F0', 'osr']]"
   ]
  },
  {
   "cell_type": "code",
   "execution_count": null,
   "metadata": {},
   "outputs": [],
   "source": [
    "stan.check_hmc_diagnostics(res4[-1][1])"
   ]
  },
  {
   "cell_type": "code",
   "execution_count": null,
   "metadata": {},
   "outputs": [],
   "source": [
    "df5 = preprocess_data(make_synth_data(12149, 12152, 155743, 2000))\n",
    "dfs5 = [sub_sample(df5, p=p) for p in np.linspace(0.05, 1.0, 20)]\n",
    "res5 = sample_data(dfs5, osr=[0.0, 0.1], chains=4, iter=2000)\n",
    "#beta5 = sample_data(dfs5, method='beta', osr=[0.0, 0.1], chains=4, iter=2000)"
   ]
  },
  {
   "cell_type": "code",
   "execution_count": null,
   "metadata": {
    "scrolled": false
   },
   "outputs": [],
   "source": [
    "ax = plot_results(res5[5:], field='G0', title='Estimated number of full sibling groups', label='unified')\n",
    "#ax = plot_results(beta5[2:], field='G0', title='Estimated number of full sibling groups', label='beta', ax=ax)\n",
    "ax.legend()"
   ]
  },
  {
   "cell_type": "code",
   "execution_count": null,
   "metadata": {},
   "outputs": [],
   "source": [
    "ax = plot_results(res5[5:], field='N0', title='Estimated number of adults', label='unified')\n",
    "#ax = plot_results(beta5[2:], field='N0', title='Estimated number of adults', label='beta', ax=ax)\n",
    "ax.legend()"
   ]
  },
  {
   "cell_type": "code",
   "execution_count": null,
   "metadata": {},
   "outputs": [],
   "source": [
    "res5[-1][1].to_dataframe(pars=['G0', 'N0', 'M0', 'F0', 'osr']).describe(percentiles=[0.005, 0.995])[['G0', 'N0', 'M0', 'F0', 'osr']]"
   ]
  },
  {
   "cell_type": "code",
   "execution_count": null,
   "metadata": {},
   "outputs": [],
   "source": [
    "df5"
   ]
  },
  {
   "cell_type": "code",
   "execution_count": null,
   "metadata": {},
   "outputs": [],
   "source": [
    "df5.nunique()"
   ]
  },
  {
   "cell_type": "code",
   "execution_count": 49,
   "metadata": {},
   "outputs": [
    {
     "data": {
      "text/plain": [
       "{'n_eff': True,\n",
       " 'Rhat': True,\n",
       " 'divergence': True,\n",
       " 'treedepth': True,\n",
       " 'energy': True}"
      ]
     },
     "execution_count": 49,
     "metadata": {},
     "output_type": "execute_result"
    }
   ],
   "source": [
    "stan.check_hmc_diagnostics(res5[-1][1])"
   ]
  },
  {
   "cell_type": "code",
   "execution_count": 5,
   "metadata": {},
   "outputs": [],
   "source": [
    "piru = pd.read_excel('PIRU_mykiss_parentage.xlsx')"
   ]
  },
  {
   "cell_type": "code",
   "execution_count": 6,
   "metadata": {},
   "outputs": [
    {
     "data": {
      "text/html": [
       "<div>\n",
       "<style scoped>\n",
       "    .dataframe tbody tr th:only-of-type {\n",
       "        vertical-align: middle;\n",
       "    }\n",
       "\n",
       "    .dataframe tbody tr th {\n",
       "        vertical-align: top;\n",
       "    }\n",
       "\n",
       "    .dataframe thead th {\n",
       "        text-align: right;\n",
       "    }\n",
       "</style>\n",
       "<table border=\"1\" class=\"dataframe\">\n",
       "  <thead>\n",
       "    <tr style=\"text-align: right;\">\n",
       "      <th></th>\n",
       "      <th>FullSibshipIndex</th>\n",
       "      <th>Prob(Inc.)</th>\n",
       "      <th>Prob(Exc.)</th>\n",
       "      <th>Member1</th>\n",
       "      <th>Member2</th>\n",
       "      <th>Member3</th>\n",
       "      <th>Member4</th>\n",
       "      <th>Member5</th>\n",
       "      <th>Member6</th>\n",
       "      <th>Member7</th>\n",
       "      <th>...</th>\n",
       "      <th>Member58</th>\n",
       "      <th>Member59</th>\n",
       "      <th>Member60</th>\n",
       "      <th>Member61</th>\n",
       "      <th>Member62</th>\n",
       "      <th>Member63</th>\n",
       "      <th>Member64</th>\n",
       "      <th>FullSibshipIndex.1</th>\n",
       "      <th>Unnamed: 68</th>\n",
       "      <th>Count</th>\n",
       "    </tr>\n",
       "  </thead>\n",
       "  <tbody>\n",
       "    <tr>\n",
       "      <th>0</th>\n",
       "      <td>1</td>\n",
       "      <td>1.0</td>\n",
       "      <td>0.5498</td>\n",
       "      <td>989001028888212</td>\n",
       "      <td>989001028888256</td>\n",
       "      <td>989001028888041</td>\n",
       "      <td>PIRU43</td>\n",
       "      <td>989001028888249</td>\n",
       "      <td>989001028888234</td>\n",
       "      <td>NaN</td>\n",
       "      <td>...</td>\n",
       "      <td>NaN</td>\n",
       "      <td>NaN</td>\n",
       "      <td>NaN</td>\n",
       "      <td>NaN</td>\n",
       "      <td>NaN</td>\n",
       "      <td>NaN</td>\n",
       "      <td>NaN</td>\n",
       "      <td>1</td>\n",
       "      <td>NaN</td>\n",
       "      <td>7</td>\n",
       "    </tr>\n",
       "    <tr>\n",
       "      <th>1</th>\n",
       "      <td>2</td>\n",
       "      <td>1.0</td>\n",
       "      <td>0.5499</td>\n",
       "      <td>PIRU04</td>\n",
       "      <td>PIRU16</td>\n",
       "      <td>989001028888264</td>\n",
       "      <td>PIRU30</td>\n",
       "      <td>NaN</td>\n",
       "      <td>NaN</td>\n",
       "      <td>NaN</td>\n",
       "      <td>...</td>\n",
       "      <td>NaN</td>\n",
       "      <td>NaN</td>\n",
       "      <td>NaN</td>\n",
       "      <td>NaN</td>\n",
       "      <td>NaN</td>\n",
       "      <td>NaN</td>\n",
       "      <td>NaN</td>\n",
       "      <td>2</td>\n",
       "      <td>NaN</td>\n",
       "      <td>5</td>\n",
       "    </tr>\n",
       "    <tr>\n",
       "      <th>2</th>\n",
       "      <td>3</td>\n",
       "      <td>1.0</td>\n",
       "      <td>1.0000</td>\n",
       "      <td>989001028888228</td>\n",
       "      <td>989001028888175</td>\n",
       "      <td>PIRU31</td>\n",
       "      <td>989001028888207</td>\n",
       "      <td>PIRU68</td>\n",
       "      <td>NaN</td>\n",
       "      <td>NaN</td>\n",
       "      <td>...</td>\n",
       "      <td>NaN</td>\n",
       "      <td>NaN</td>\n",
       "      <td>NaN</td>\n",
       "      <td>NaN</td>\n",
       "      <td>NaN</td>\n",
       "      <td>NaN</td>\n",
       "      <td>NaN</td>\n",
       "      <td>3</td>\n",
       "      <td>NaN</td>\n",
       "      <td>11</td>\n",
       "    </tr>\n",
       "    <tr>\n",
       "      <th>3</th>\n",
       "      <td>5</td>\n",
       "      <td>1.0</td>\n",
       "      <td>0.4347</td>\n",
       "      <td>NaN</td>\n",
       "      <td>NaN</td>\n",
       "      <td>NaN</td>\n",
       "      <td>NaN</td>\n",
       "      <td>NaN</td>\n",
       "      <td>NaN</td>\n",
       "      <td>NaN</td>\n",
       "      <td>...</td>\n",
       "      <td>NaN</td>\n",
       "      <td>NaN</td>\n",
       "      <td>NaN</td>\n",
       "      <td>NaN</td>\n",
       "      <td>NaN</td>\n",
       "      <td>NaN</td>\n",
       "      <td>NaN</td>\n",
       "      <td>5</td>\n",
       "      <td>NaN</td>\n",
       "      <td>0</td>\n",
       "    </tr>\n",
       "    <tr>\n",
       "      <th>4</th>\n",
       "      <td>6</td>\n",
       "      <td>1.0</td>\n",
       "      <td>1.0000</td>\n",
       "      <td>989001028888173</td>\n",
       "      <td>989001028888189</td>\n",
       "      <td>989001028888213</td>\n",
       "      <td>PIRU1017</td>\n",
       "      <td>989001028888089</td>\n",
       "      <td>989001028888088</td>\n",
       "      <td>NaN</td>\n",
       "      <td>...</td>\n",
       "      <td>NaN</td>\n",
       "      <td>NaN</td>\n",
       "      <td>NaN</td>\n",
       "      <td>NaN</td>\n",
       "      <td>NaN</td>\n",
       "      <td>NaN</td>\n",
       "      <td>NaN</td>\n",
       "      <td>6</td>\n",
       "      <td>NaN</td>\n",
       "      <td>6</td>\n",
       "    </tr>\n",
       "    <tr>\n",
       "      <th>...</th>\n",
       "      <td>...</td>\n",
       "      <td>...</td>\n",
       "      <td>...</td>\n",
       "      <td>...</td>\n",
       "      <td>...</td>\n",
       "      <td>...</td>\n",
       "      <td>...</td>\n",
       "      <td>...</td>\n",
       "      <td>...</td>\n",
       "      <td>...</td>\n",
       "      <td>...</td>\n",
       "      <td>...</td>\n",
       "      <td>...</td>\n",
       "      <td>...</td>\n",
       "      <td>...</td>\n",
       "      <td>...</td>\n",
       "      <td>...</td>\n",
       "      <td>...</td>\n",
       "      <td>...</td>\n",
       "      <td>...</td>\n",
       "      <td>...</td>\n",
       "    </tr>\n",
       "    <tr>\n",
       "      <th>133</th>\n",
       "      <td>194</td>\n",
       "      <td>1.0</td>\n",
       "      <td>0.2587</td>\n",
       "      <td>861326</td>\n",
       "      <td>NaN</td>\n",
       "      <td>NaN</td>\n",
       "      <td>NaN</td>\n",
       "      <td>NaN</td>\n",
       "      <td>NaN</td>\n",
       "      <td>NaN</td>\n",
       "      <td>...</td>\n",
       "      <td>NaN</td>\n",
       "      <td>NaN</td>\n",
       "      <td>NaN</td>\n",
       "      <td>NaN</td>\n",
       "      <td>NaN</td>\n",
       "      <td>NaN</td>\n",
       "      <td>NaN</td>\n",
       "      <td>194</td>\n",
       "      <td>NaN</td>\n",
       "      <td>1</td>\n",
       "    </tr>\n",
       "    <tr>\n",
       "      <th>134</th>\n",
       "      <td>195</td>\n",
       "      <td>1.0</td>\n",
       "      <td>0.4325</td>\n",
       "      <td>861372</td>\n",
       "      <td>NaN</td>\n",
       "      <td>NaN</td>\n",
       "      <td>NaN</td>\n",
       "      <td>NaN</td>\n",
       "      <td>NaN</td>\n",
       "      <td>NaN</td>\n",
       "      <td>...</td>\n",
       "      <td>NaN</td>\n",
       "      <td>NaN</td>\n",
       "      <td>NaN</td>\n",
       "      <td>NaN</td>\n",
       "      <td>NaN</td>\n",
       "      <td>NaN</td>\n",
       "      <td>NaN</td>\n",
       "      <td>195</td>\n",
       "      <td>NaN</td>\n",
       "      <td>1</td>\n",
       "    </tr>\n",
       "    <tr>\n",
       "      <th>135</th>\n",
       "      <td>197</td>\n",
       "      <td>1.0</td>\n",
       "      <td>0.3916</td>\n",
       "      <td>989001028888246</td>\n",
       "      <td>NaN</td>\n",
       "      <td>NaN</td>\n",
       "      <td>NaN</td>\n",
       "      <td>NaN</td>\n",
       "      <td>NaN</td>\n",
       "      <td>NaN</td>\n",
       "      <td>...</td>\n",
       "      <td>NaN</td>\n",
       "      <td>NaN</td>\n",
       "      <td>NaN</td>\n",
       "      <td>NaN</td>\n",
       "      <td>NaN</td>\n",
       "      <td>NaN</td>\n",
       "      <td>NaN</td>\n",
       "      <td>197</td>\n",
       "      <td>NaN</td>\n",
       "      <td>1</td>\n",
       "    </tr>\n",
       "    <tr>\n",
       "      <th>136</th>\n",
       "      <td>199</td>\n",
       "      <td>1.0</td>\n",
       "      <td>0.9995</td>\n",
       "      <td>989001028888244</td>\n",
       "      <td>NaN</td>\n",
       "      <td>NaN</td>\n",
       "      <td>NaN</td>\n",
       "      <td>NaN</td>\n",
       "      <td>NaN</td>\n",
       "      <td>NaN</td>\n",
       "      <td>...</td>\n",
       "      <td>NaN</td>\n",
       "      <td>NaN</td>\n",
       "      <td>NaN</td>\n",
       "      <td>NaN</td>\n",
       "      <td>NaN</td>\n",
       "      <td>NaN</td>\n",
       "      <td>NaN</td>\n",
       "      <td>199</td>\n",
       "      <td>NaN</td>\n",
       "      <td>1</td>\n",
       "    </tr>\n",
       "    <tr>\n",
       "      <th>137</th>\n",
       "      <td>200</td>\n",
       "      <td>1.0</td>\n",
       "      <td>0.9296</td>\n",
       "      <td>989001028888174</td>\n",
       "      <td>NaN</td>\n",
       "      <td>NaN</td>\n",
       "      <td>NaN</td>\n",
       "      <td>NaN</td>\n",
       "      <td>NaN</td>\n",
       "      <td>NaN</td>\n",
       "      <td>...</td>\n",
       "      <td>NaN</td>\n",
       "      <td>NaN</td>\n",
       "      <td>NaN</td>\n",
       "      <td>NaN</td>\n",
       "      <td>NaN</td>\n",
       "      <td>NaN</td>\n",
       "      <td>NaN</td>\n",
       "      <td>200</td>\n",
       "      <td>NaN</td>\n",
       "      <td>1</td>\n",
       "    </tr>\n",
       "  </tbody>\n",
       "</table>\n",
       "<p>138 rows × 70 columns</p>\n",
       "</div>"
      ],
      "text/plain": [
       "     FullSibshipIndex  Prob(Inc.)  Prob(Exc.)          Member1  \\\n",
       "0                   1         1.0      0.5498  989001028888212   \n",
       "1                   2         1.0      0.5499           PIRU04   \n",
       "2                   3         1.0      1.0000  989001028888228   \n",
       "3                   5         1.0      0.4347              NaN   \n",
       "4                   6         1.0      1.0000  989001028888173   \n",
       "..                ...         ...         ...              ...   \n",
       "133               194         1.0      0.2587           861326   \n",
       "134               195         1.0      0.4325           861372   \n",
       "135               197         1.0      0.3916  989001028888246   \n",
       "136               199         1.0      0.9995  989001028888244   \n",
       "137               200         1.0      0.9296  989001028888174   \n",
       "\n",
       "             Member2          Member3          Member4          Member5  \\\n",
       "0    989001028888256  989001028888041           PIRU43  989001028888249   \n",
       "1             PIRU16  989001028888264           PIRU30              NaN   \n",
       "2    989001028888175           PIRU31  989001028888207           PIRU68   \n",
       "3                NaN              NaN              NaN              NaN   \n",
       "4    989001028888189  989001028888213         PIRU1017  989001028888089   \n",
       "..               ...              ...              ...              ...   \n",
       "133              NaN              NaN              NaN              NaN   \n",
       "134              NaN              NaN              NaN              NaN   \n",
       "135              NaN              NaN              NaN              NaN   \n",
       "136              NaN              NaN              NaN              NaN   \n",
       "137              NaN              NaN              NaN              NaN   \n",
       "\n",
       "             Member6 Member7  ...  Member58 Member59 Member60 Member61  \\\n",
       "0    989001028888234     NaN  ...       NaN      NaN      NaN      NaN   \n",
       "1                NaN     NaN  ...       NaN      NaN      NaN      NaN   \n",
       "2                NaN     NaN  ...       NaN      NaN      NaN      NaN   \n",
       "3                NaN     NaN  ...       NaN      NaN      NaN      NaN   \n",
       "4    989001028888088     NaN  ...       NaN      NaN      NaN      NaN   \n",
       "..               ...     ...  ...       ...      ...      ...      ...   \n",
       "133              NaN     NaN  ...       NaN      NaN      NaN      NaN   \n",
       "134              NaN     NaN  ...       NaN      NaN      NaN      NaN   \n",
       "135              NaN     NaN  ...       NaN      NaN      NaN      NaN   \n",
       "136              NaN     NaN  ...       NaN      NaN      NaN      NaN   \n",
       "137              NaN     NaN  ...       NaN      NaN      NaN      NaN   \n",
       "\n",
       "    Member62  Member63  Member64  FullSibshipIndex.1 Unnamed: 68  Count  \n",
       "0        NaN       NaN       NaN                   1         NaN      7  \n",
       "1        NaN       NaN       NaN                   2         NaN      5  \n",
       "2        NaN       NaN       NaN                   3         NaN     11  \n",
       "3        NaN       NaN       NaN                   5         NaN      0  \n",
       "4        NaN       NaN       NaN                   6         NaN      6  \n",
       "..       ...       ...       ...                 ...         ...    ...  \n",
       "133      NaN       NaN       NaN                 194         NaN      1  \n",
       "134      NaN       NaN       NaN                 195         NaN      1  \n",
       "135      NaN       NaN       NaN                 197         NaN      1  \n",
       "136      NaN       NaN       NaN                 199         NaN      1  \n",
       "137      NaN       NaN       NaN                 200         NaN      1  \n",
       "\n",
       "[138 rows x 70 columns]"
      ]
     },
     "execution_count": 6,
     "metadata": {},
     "output_type": "execute_result"
    }
   ],
   "source": [
    "piru"
   ]
  },
  {
   "cell_type": "code",
   "execution_count": null,
   "metadata": {},
   "outputs": [],
   "source": []
  }
 ],
 "metadata": {
  "kernelspec": {
   "display_name": "Python 3 (ipykernel)",
   "language": "python",
   "name": "python3"
  },
  "language_info": {
   "codemirror_mode": {
    "name": "ipython",
    "version": 3
   },
   "file_extension": ".py",
   "mimetype": "text/x-python",
   "name": "python",
   "nbconvert_exporter": "python",
   "pygments_lexer": "ipython3",
   "version": "3.8.13"
  }
 },
 "nbformat": 4,
 "nbformat_minor": 4
}
